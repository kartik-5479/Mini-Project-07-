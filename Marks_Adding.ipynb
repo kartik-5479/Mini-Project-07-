{
  "nbformat": 4,
  "nbformat_minor": 0,
  "metadata": {
    "colab": {
      "provenance": [],
      "authorship_tag": "ABX9TyNATRKuHkttQ1ldiqXj9bm5",
      "include_colab_link": true
    },
    "kernelspec": {
      "name": "python3",
      "display_name": "Python 3"
    },
    "language_info": {
      "name": "python"
    }
  },
  "cells": [
    {
      "cell_type": "markdown",
      "metadata": {
        "id": "view-in-github",
        "colab_type": "text"
      },
      "source": [
        "<a href=\"https://colab.research.google.com/github/kartik-5479/Mini-Project-07-/blob/main/Marks_Adding.ipynb\" target=\"_parent\"><img src=\"https://colab.research.google.com/assets/colab-badge.svg\" alt=\"Open In Colab\"/></a>"
      ]
    },
    {
      "cell_type": "markdown",
      "source": [
        "**Project Goal:**\n",
        "####Create a Python program that:\n",
        "\n",
        "* Reads an input CSV file (e.g., Mini Project - Marks Adding.csv) which contains roll numbers and their marks.\n",
        "\n",
        "* Calculates the total marks for each roll number.\n",
        "\n",
        "* Outputs the result to a new CSV file with the total added."
      ],
      "metadata": {
        "id": "TvfcG5tfBdGy"
      }
    },
    {
      "cell_type": "code",
      "execution_count": 3,
      "metadata": {
        "colab": {
          "base_uri": "https://localhost:8080/"
        },
        "id": "ETLODanj_nV8",
        "outputId": "a63b7c10-44a5-4c3b-aacc-b81301c7a051"
      },
      "outputs": [
        {
          "output_type": "stream",
          "name": "stdout",
          "text": [
            "Input Data:\n",
            "     Roll Num  Marks\n",
            "0  102003542      1\n",
            "1  102003640      1\n",
            "2  102003725      1\n",
            "3  102003307      1\n",
            "4  102003458      1\n",
            "Total marks added and saved to 'Total_Marks_Output.csv'\n"
          ]
        }
      ],
      "source": [
        "import pandas as pd\n",
        "\n",
        "# Load the CSV file\n",
        "df = pd.read_csv('Mini Project - Marks Adding.csv')\n",
        "\n",
        "# Display the first few rows (optional)\n",
        "print(\"Input Data:\\n\", df.head())\n",
        "\n",
        "# Group by Roll Number and sum the marks\n",
        "result = df.groupby('Roll Num').sum().reset_index()\n",
        "\n",
        "# Save the result to a new CSV\n",
        "result.to_csv('Total_Marks_Output.csv', index=False)\n",
        "\n",
        "print(\"Total marks added and saved to 'Total_Marks_Output.csv'\")"
      ]
    }
  ]
}